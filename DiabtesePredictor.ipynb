{
 "cells": [
  {
   "cell_type": "code",
   "execution_count": 1,
   "id": "235b5988-6a23-41c2-aa51-41295f3695c9",
   "metadata": {},
   "outputs": [],
   "source": [
    "import pandas as pd\n",
    "import numpy as np\n",
    "from time import time\n",
    "from IPython.display import display \n",
    "# allows the use of display from dataframes\n",
    "import matplotlib.pyplot as plt\n",
    "import sklearn"
   ]
  },
  {
   "cell_type": "code",
   "execution_count": 2,
   "id": "56c0b44c-db46-48ab-a7da-a915dbe26a1e",
   "metadata": {},
   "outputs": [],
   "source": [
    "# going to read the data \n",
    "data = pd.read_csv(\"F:\\diabetes.csv\")"
   ]
  },
  {
   "cell_type": "code",
   "execution_count": 3,
   "id": "80781bd0-a16c-454e-bd77-f0aff5cee811",
   "metadata": {},
   "outputs": [
    {
     "data": {
      "text/html": [
       "<div>\n",
       "<style scoped>\n",
       "    .dataframe tbody tr th:only-of-type {\n",
       "        vertical-align: middle;\n",
       "    }\n",
       "\n",
       "    .dataframe tbody tr th {\n",
       "        vertical-align: top;\n",
       "    }\n",
       "\n",
       "    .dataframe thead th {\n",
       "        text-align: right;\n",
       "    }\n",
       "</style>\n",
       "<table border=\"1\" class=\"dataframe\">\n",
       "  <thead>\n",
       "    <tr style=\"text-align: right;\">\n",
       "      <th></th>\n",
       "      <th>Pregnancies</th>\n",
       "      <th>Glucose</th>\n",
       "      <th>BloodPressure</th>\n",
       "      <th>SkinThickness</th>\n",
       "      <th>Insulin</th>\n",
       "      <th>BMI</th>\n",
       "      <th>DiabetesPedigreeFunction</th>\n",
       "      <th>Age</th>\n",
       "      <th>Outcome</th>\n",
       "    </tr>\n",
       "  </thead>\n",
       "  <tbody>\n",
       "    <tr>\n",
       "      <th>0</th>\n",
       "      <td>6</td>\n",
       "      <td>148</td>\n",
       "      <td>72</td>\n",
       "      <td>35</td>\n",
       "      <td>0</td>\n",
       "      <td>33.6</td>\n",
       "      <td>0.627</td>\n",
       "      <td>50</td>\n",
       "      <td>1</td>\n",
       "    </tr>\n",
       "    <tr>\n",
       "      <th>1</th>\n",
       "      <td>1</td>\n",
       "      <td>85</td>\n",
       "      <td>66</td>\n",
       "      <td>29</td>\n",
       "      <td>0</td>\n",
       "      <td>26.6</td>\n",
       "      <td>0.351</td>\n",
       "      <td>31</td>\n",
       "      <td>0</td>\n",
       "    </tr>\n",
       "    <tr>\n",
       "      <th>2</th>\n",
       "      <td>8</td>\n",
       "      <td>183</td>\n",
       "      <td>64</td>\n",
       "      <td>0</td>\n",
       "      <td>0</td>\n",
       "      <td>23.3</td>\n",
       "      <td>0.672</td>\n",
       "      <td>32</td>\n",
       "      <td>1</td>\n",
       "    </tr>\n",
       "    <tr>\n",
       "      <th>3</th>\n",
       "      <td>1</td>\n",
       "      <td>89</td>\n",
       "      <td>66</td>\n",
       "      <td>23</td>\n",
       "      <td>94</td>\n",
       "      <td>28.1</td>\n",
       "      <td>0.167</td>\n",
       "      <td>21</td>\n",
       "      <td>0</td>\n",
       "    </tr>\n",
       "    <tr>\n",
       "      <th>4</th>\n",
       "      <td>0</td>\n",
       "      <td>137</td>\n",
       "      <td>40</td>\n",
       "      <td>35</td>\n",
       "      <td>168</td>\n",
       "      <td>43.1</td>\n",
       "      <td>2.288</td>\n",
       "      <td>33</td>\n",
       "      <td>1</td>\n",
       "    </tr>\n",
       "  </tbody>\n",
       "</table>\n",
       "</div>"
      ],
      "text/plain": [
       "   Pregnancies  Glucose  BloodPressure  SkinThickness  Insulin   BMI  \\\n",
       "0            6      148             72             35        0  33.6   \n",
       "1            1       85             66             29        0  26.6   \n",
       "2            8      183             64              0        0  23.3   \n",
       "3            1       89             66             23       94  28.1   \n",
       "4            0      137             40             35      168  43.1   \n",
       "\n",
       "   DiabetesPedigreeFunction  Age  Outcome  \n",
       "0                     0.627   50        1  \n",
       "1                     0.351   31        0  \n",
       "2                     0.672   32        1  \n",
       "3                     0.167   21        0  \n",
       "4                     2.288   33        1  "
      ]
     },
     "metadata": {},
     "output_type": "display_data"
    }
   ],
   "source": [
    "display(data.head())"
   ]
  },
  {
   "cell_type": "code",
   "execution_count": 4,
   "id": "8789a851-b8c3-470e-87e1-031b46b490ef",
   "metadata": {},
   "outputs": [],
   "source": [
    "# processing the data"
   ]
  },
  {
   "cell_type": "code",
   "execution_count": 5,
   "id": "4e982154-4bc7-4c30-87a8-b20ca82621ac",
   "metadata": {},
   "outputs": [
    {
     "name": "stdout",
     "output_type": "stream",
     "text": [
      "Number of missing value in SkinThickness Columns are :  227\n",
      "Number of missing value in insulin column are :  374\n"
     ]
    }
   ],
   "source": [
    "# count the nuber of missing value in SkinThickness column \n",
    "print(\"Number of missing value in SkinThickness Columns are : \",(data[\"SkinThickness\"]==0).sum())\n",
    "# count the number of missing value in insulin column\n",
    "print(\"Number of missing value in insulin column are : \",(data[\"Insulin\"]==0).sum())\n"
   ]
  },
  {
   "cell_type": "code",
   "execution_count": 7,
   "id": "6e4d18f0-b862-4375-8e35-9cef1d6d79cd",
   "metadata": {},
   "outputs": [],
   "source": [
    "# converting skinthickness and insuin column to floating to avoid future conflicts\n",
    "data[\"Insulin\"] = data[\"Insulin\"].astype(float)\n",
    "data[\"SkinThickness\"] = data[\"SkinThickness\"].astype(float)"
   ]
  },
  {
   "cell_type": "code",
   "execution_count": 8,
   "id": "3e07dc9b-bac5-45d6-9228-3c2fe5ed47b9",
   "metadata": {},
   "outputs": [],
   "source": [
    "# Replacing the zero value in column with the mean value of that particular column\n",
    "data.loc[data[\"SkinThickness\"]==0,\"SkinThickness\"] = data[\"SkinThickness\"].mean()\n",
    "data.loc[data[\"Insulin\"]==0,\"Insulin\"] = data[\"Insulin\"].mean()"
   ]
  },
  {
   "cell_type": "code",
   "execution_count": 9,
   "id": "3123efe8-cab3-42cd-82b2-6bf1371886ed",
   "metadata": {},
   "outputs": [
    {
     "name": "stdout",
     "output_type": "stream",
     "text": [
      "0\n",
      "0\n"
     ]
    }
   ],
   "source": [
    "# Now just check that is there any zero value left is in our data\n",
    "print((data[\"SkinThickness\"] ==0).sum())\n",
    "print((data[\"Insulin\"] ==0).sum())"
   ]
  },
  {
   "cell_type": "code",
   "execution_count": 10,
   "id": "f1af880a-9403-4cd5-82d0-8544dc4af3c8",
   "metadata": {},
   "outputs": [
    {
     "data": {
      "text/html": [
       "<div>\n",
       "<style scoped>\n",
       "    .dataframe tbody tr th:only-of-type {\n",
       "        vertical-align: middle;\n",
       "    }\n",
       "\n",
       "    .dataframe tbody tr th {\n",
       "        vertical-align: top;\n",
       "    }\n",
       "\n",
       "    .dataframe thead th {\n",
       "        text-align: right;\n",
       "    }\n",
       "</style>\n",
       "<table border=\"1\" class=\"dataframe\">\n",
       "  <thead>\n",
       "    <tr style=\"text-align: right;\">\n",
       "      <th></th>\n",
       "      <th>Pregnancies</th>\n",
       "      <th>Glucose</th>\n",
       "      <th>BloodPressure</th>\n",
       "      <th>SkinThickness</th>\n",
       "      <th>Insulin</th>\n",
       "      <th>BMI</th>\n",
       "      <th>DiabetesPedigreeFunction</th>\n",
       "      <th>Age</th>\n",
       "      <th>Outcome</th>\n",
       "    </tr>\n",
       "  </thead>\n",
       "  <tbody>\n",
       "    <tr>\n",
       "      <th>0</th>\n",
       "      <td>6</td>\n",
       "      <td>148</td>\n",
       "      <td>72</td>\n",
       "      <td>35.000000</td>\n",
       "      <td>79.799479</td>\n",
       "      <td>33.6</td>\n",
       "      <td>0.627</td>\n",
       "      <td>50</td>\n",
       "      <td>1</td>\n",
       "    </tr>\n",
       "    <tr>\n",
       "      <th>1</th>\n",
       "      <td>1</td>\n",
       "      <td>85</td>\n",
       "      <td>66</td>\n",
       "      <td>29.000000</td>\n",
       "      <td>79.799479</td>\n",
       "      <td>26.6</td>\n",
       "      <td>0.351</td>\n",
       "      <td>31</td>\n",
       "      <td>0</td>\n",
       "    </tr>\n",
       "    <tr>\n",
       "      <th>2</th>\n",
       "      <td>8</td>\n",
       "      <td>183</td>\n",
       "      <td>64</td>\n",
       "      <td>20.536458</td>\n",
       "      <td>79.799479</td>\n",
       "      <td>23.3</td>\n",
       "      <td>0.672</td>\n",
       "      <td>32</td>\n",
       "      <td>1</td>\n",
       "    </tr>\n",
       "    <tr>\n",
       "      <th>3</th>\n",
       "      <td>1</td>\n",
       "      <td>89</td>\n",
       "      <td>66</td>\n",
       "      <td>23.000000</td>\n",
       "      <td>94.000000</td>\n",
       "      <td>28.1</td>\n",
       "      <td>0.167</td>\n",
       "      <td>21</td>\n",
       "      <td>0</td>\n",
       "    </tr>\n",
       "    <tr>\n",
       "      <th>4</th>\n",
       "      <td>0</td>\n",
       "      <td>137</td>\n",
       "      <td>40</td>\n",
       "      <td>35.000000</td>\n",
       "      <td>168.000000</td>\n",
       "      <td>43.1</td>\n",
       "      <td>2.288</td>\n",
       "      <td>33</td>\n",
       "      <td>1</td>\n",
       "    </tr>\n",
       "  </tbody>\n",
       "</table>\n",
       "</div>"
      ],
      "text/plain": [
       "   Pregnancies  Glucose  BloodPressure  SkinThickness     Insulin   BMI  \\\n",
       "0            6      148             72      35.000000   79.799479  33.6   \n",
       "1            1       85             66      29.000000   79.799479  26.6   \n",
       "2            8      183             64      20.536458   79.799479  23.3   \n",
       "3            1       89             66      23.000000   94.000000  28.1   \n",
       "4            0      137             40      35.000000  168.000000  43.1   \n",
       "\n",
       "   DiabetesPedigreeFunction  Age  Outcome  \n",
       "0                     0.627   50        1  \n",
       "1                     0.351   31        0  \n",
       "2                     0.672   32        1  \n",
       "3                     0.167   21        0  \n",
       "4                     2.288   33        1  "
      ]
     },
     "metadata": {},
     "output_type": "display_data"
    }
   ],
   "source": [
    "display(data.head())"
   ]
  },
  {
   "cell_type": "code",
   "execution_count": 13,
   "id": "5fffe49d-0524-4fa2-a037-b615126dbe39",
   "metadata": {},
   "outputs": [
    {
     "name": "stdout",
     "output_type": "stream",
     "text": [
      "Total number of records :768 \n",
      "Number of person diagnosed with diabtese :268 \n",
      "Total number of person not having diabtese :500 \n",
      "Percentage of people who are not diabtic :34.89583333333333% \n"
     ]
    }
   ],
   "source": [
    "# lets take the record of all the values\n",
    "n_records = len(data.index)\n",
    "\n",
    "# Number of records where the outcome is 1 means the person are diagnosed with diatic\n",
    "n_1 = data[data.Outcome == 1].shape[0]\n",
    "\n",
    "# Number of records where the outcome is 0 means number of person not having diabtese\n",
    "\n",
    "n_0 = data[data.Outcome == 0].shape[0]\n",
    "\n",
    "# percentage of individual whose outcome is 1\n",
    "\n",
    "n1_percentage = (n_1/n_records)*100\n",
    "\n",
    "print(\"Total number of records :{} \".format(n_records))\n",
    "print(\"Number of person diagnosed with diabtese :{} \".format(n_1))\n",
    "print(\"Total number of person not having diabtese :{} \".format(n_0))\n",
    "print(\"Percentage of people who are not diabtic :{}% \".format(n1_percentage))"
   ]
  },
  {
   "cell_type": "code",
   "execution_count": 15,
   "id": "6265b9d9-9a03-41c8-8769-5dfb5227d946",
   "metadata": {},
   "outputs": [],
   "source": [
    "# lets split our data into target and features label\n",
    "\n",
    "# Target Label\n",
    "outcome_r = data[\"Outcome\"]\n",
    "\n",
    "# other features \n",
    "\n",
    "features_r = data.drop(\"Outcome\",axis =1)"
   ]
  },
  {
   "cell_type": "code",
   "execution_count": 23,
   "id": "e5a9ee2b-89d7-417c-8379-8e5b09118abb",
   "metadata": {},
   "outputs": [
    {
     "data": {
      "image/png": "[encoded data removed]",
      "text/plain": [
       "<Figure size 1100x500 with 2 Axes>"
      ]
     },
     "metadata": {},
     "output_type": "display_data"
    }
   ],
   "source": [
    "# lets visualize the Skewed continuous feature of original data\n",
    "\n",
    "fig = plt.figure(figsize = (11,5))\n",
    "\n",
    "# Skewed feature plotting \n",
    "\n",
    "for i,feature in enumerate([\"SkinThickness\",\"Insulin\"]):\n",
    "    ax = fig.add_subplot(1,2,i+1)\n",
    "    ax.hist(data[feature],bins = 25,color = \"#00A0A0\")\n",
    "    ax.set_title(\"'%s' Feature distribution\"%(feature),fontsize = 14)\n",
    "    ax.set_xlabel(\"value\")\n",
    "    ax.set_ylabel(\"Number of records\")"
   ]
  },
  {
   "cell_type": "code",
   "execution_count": 19,
   "id": "fcfe428c-9e02-470e-8f9f-66ebaef0a803",
   "metadata": {},
   "outputs": [],
   "source": [
    "# visualiztion code for displaying skewed distributions of feature "
   ]
  },
  {
   "cell_type": "code",
   "execution_count": 28,
   "id": "4c1f96ba-e656-4697-8d03-87e457123faa",
   "metadata": {},
   "outputs": [],
   "source": [
    "# fixing the skewed data by distributing the data of features\n",
    "\n",
    "def distribution(data,transformed = False):\n",
    "\n",
    "    # create figure\n",
    "    fig = plt.figure(figsize = (11,5));\n",
    "\n",
    "    # skewed feature plotting\n",
    "    for i,feature in enumerate([\"SkinThickness\",\"Insulin\"]):\n",
    "       ax = fig.add_subplot(1,2,i+1)\n",
    "       ax.hist(data[feature],bins = 25,color = \"#00A0A0\")\n",
    "       ax.set_title(\"'%s' Feature distribution\"%(feature),fontsize = 14)\n",
    "       ax.set_xlabel(\"value\")\n",
    "       ax.set_ylabel(\"Number of records\")\n",
    "\n",
    "\n",
    "    # Plotting Aesthetcs \n",
    "    if transformed:\n",
    "        # here if the title is true the data is transformed into log_transformed distribution\n",
    "        fig.suptitle(\"log_transformed Distributions \", \n",
    "                     fontsize =16,y =1.03)\n",
    "    else:\n",
    "        # here if the title is false the data is transformef into Skewed Distribution\n",
    "        fig.suptitle(\"Skewed Distribution  \", \n",
    "                     fontsize =16,y =1.03)\n",
    "\n",
    "    fig.tight_layout()\n",
    "    plt.show()"
   ]
  },
  {
   "cell_type": "code",
   "execution_count": 29,
   "id": "6307dd6d-e4f1-440e-8ae3-b828ec500826",
   "metadata": {},
   "outputs": [
    {
     "data": {
      "image/png": "[encoded data removed]",
      "text/plain": [
       "<Figure size 1100x500 with 2 Axes>"
      ]
     },
     "metadata": {},
     "output_type": "display_data"
    }
   ],
   "source": [
    "# Log transformation of the Skewed feature \n",
    "\n",
    "skewed = ['SkinThickness','Insulin']\n",
    "features_log_transformed = pd.DataFrame (data = features_r)\n",
    "# Aplying the lambda function to transform the log transformmatiio\n",
    "features_log_transformed[skewed] = features_r[skewed].apply(lambda x:np.log(x+1))\n",
    "\n",
    "# visualizing the new log distribution\n",
    "\n",
    "distribution(features_log_transformed,transformed = True)"
   ]
  },
  {
   "cell_type": "code",
   "execution_count": 32,
   "id": "dd9bc002-4db3-414f-b34e-2a9008e7fabb",
   "metadata": {},
   "outputs": [
    {
     "data": {
      "text/html": [
       "<div>\n",
       "<style scoped>\n",
       "    .dataframe tbody tr th:only-of-type {\n",
       "        vertical-align: middle;\n",
       "    }\n",
       "\n",
       "    .dataframe tbody tr th {\n",
       "        vertical-align: top;\n",
       "    }\n",
       "\n",
       "    .dataframe thead th {\n",
       "        text-align: right;\n",
       "    }\n",
       "</style>\n",
       "<table border=\"1\" class=\"dataframe\">\n",
       "  <thead>\n",
       "    <tr style=\"text-align: right;\">\n",
       "      <th></th>\n",
       "      <th>Pregnancies</th>\n",
       "      <th>Glucose</th>\n",
       "      <th>BloodPressure</th>\n",
       "      <th>SkinThickness</th>\n",
       "      <th>Insulin</th>\n",
       "      <th>BMI</th>\n",
       "      <th>DiabetesPedigreeFunction</th>\n",
       "      <th>Age</th>\n",
       "    </tr>\n",
       "  </thead>\n",
       "  <tbody>\n",
       "    <tr>\n",
       "      <th>0</th>\n",
       "      <td>6</td>\n",
       "      <td>148</td>\n",
       "      <td>72</td>\n",
       "      <td>0.595502</td>\n",
       "      <td>0.417468</td>\n",
       "      <td>33.6</td>\n",
       "      <td>0.234415</td>\n",
       "      <td>50</td>\n",
       "    </tr>\n",
       "    <tr>\n",
       "      <th>1</th>\n",
       "      <td>1</td>\n",
       "      <td>85</td>\n",
       "      <td>66</td>\n",
       "      <td>0.523317</td>\n",
       "      <td>0.417468</td>\n",
       "      <td>26.6</td>\n",
       "      <td>0.116567</td>\n",
       "      <td>31</td>\n",
       "    </tr>\n",
       "    <tr>\n",
       "      <th>2</th>\n",
       "      <td>8</td>\n",
       "      <td>183</td>\n",
       "      <td>64</td>\n",
       "      <td>0.392087</td>\n",
       "      <td>0.417468</td>\n",
       "      <td>23.3</td>\n",
       "      <td>0.253629</td>\n",
       "      <td>32</td>\n",
       "    </tr>\n",
       "    <tr>\n",
       "      <th>3</th>\n",
       "      <td>1</td>\n",
       "      <td>89</td>\n",
       "      <td>66</td>\n",
       "      <td>0.434968</td>\n",
       "      <td>0.457607</td>\n",
       "      <td>28.1</td>\n",
       "      <td>0.038002</td>\n",
       "      <td>21</td>\n",
       "    </tr>\n",
       "    <tr>\n",
       "      <th>4</th>\n",
       "      <td>0</td>\n",
       "      <td>137</td>\n",
       "      <td>40</td>\n",
       "      <td>0.595502</td>\n",
       "      <td>0.600411</td>\n",
       "      <td>43.1</td>\n",
       "      <td>0.943638</td>\n",
       "      <td>33</td>\n",
       "    </tr>\n",
       "  </tbody>\n",
       "</table>\n",
       "</div>"
      ],
      "text/plain": [
       "   Pregnancies  Glucose  BloodPressure  SkinThickness   Insulin   BMI  \\\n",
       "0            6      148             72       0.595502  0.417468  33.6   \n",
       "1            1       85             66       0.523317  0.417468  26.6   \n",
       "2            8      183             64       0.392087  0.417468  23.3   \n",
       "3            1       89             66       0.434968  0.457607  28.1   \n",
       "4            0      137             40       0.595502  0.600411  43.1   \n",
       "\n",
       "   DiabetesPedigreeFunction  Age  \n",
       "0                  0.234415   50  \n",
       "1                  0.116567   31  \n",
       "2                  0.253629   32  \n",
       "3                  0.038002   21  \n",
       "4                  0.943638   33  "
      ]
     },
     "metadata": {},
     "output_type": "display_data"
    }
   ],
   "source": [
    "# lets scale our data from MinMAxScaler to avoid conflicts \n",
    "\n",
    "from sklearn.preprocessing import MinMaxScaler\n",
    "\n",
    "# initialize a scaler and then apply it to features  the default value is [0,1]\n",
    "scaler = MinMaxScaler()\n",
    "numerical = ['Insulin','SkinThickness','DiabetesPedigreeFunction']\n",
    "\n",
    "features_log_minmax_transform = pd.DataFrame(data = features_log_transformed)\n",
    "features_log_minmax_transform[numerical] = scaler.fit_transform(features_log_transformed[numerical])\n",
    "\n",
    "# here is an example of a record with scaling applied \n",
    "display(features_log_minmax_transform.head(n=5))\n",
    "features_final = features_log_minmax_transform"
   ]
  },
  {
   "cell_type": "code",
   "execution_count": null,
   "id": "ebd6a1c4-0b67-476f-a176-b20015d378c0",
   "metadata": {},
   "outputs": [],
   "source": []
  }
 ],
 "metadata": {
  "kernelspec": {
   "display_name": "Python 3 (ipykernel)",
   "language": "python",
   "name": "python3"
  },
  "language_info": {
   "codemirror_mode": {
    "name": "ipython",
    "version": 3
   },
   "file_extension": ".py",
   "mimetype": "text/x-python",
   "name": "python",
   "nbconvert_exporter": "python",
   "pygments_lexer": "ipython3",
   "version": "3.11.2"
  }
 },
 "nbformat": 4,
 "nbformat_minor": 5
}
